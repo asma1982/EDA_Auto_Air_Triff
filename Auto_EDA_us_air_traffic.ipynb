{
 "cells": [
  {
   "cell_type": "code",
   "execution_count": null,
   "metadata": {
    "_cell_guid": "b1076dfc-b9ad-4769-8c92-a6c4dae69d19",
    "_uuid": "8f2839f25d086af736a60e9eeb907d3b93b6e0e5",
    "editable": false
   },
   "outputs": [],
   "source": [
    "# This Python 3 environment comes with many helpful analytics libraries installed\n",
    "# It is defined by the kaggle/python Docker image: https://github.com/kaggle/docker-python\n",
    "# For example, here's several helpful packages to load\n",
    "\n",
    "import numpy as np # linear algebra\n",
    "import pandas as pd # data processing, CSV file I/O (e.g. pd.read_csv)\n",
    "\n",
    "# Input data files are available in the read-only \"../input/\" directory\n",
    "# For example, running this (by clicking run or pressing Shift+Enter) will list all files under the input directory\n",
    "\n",
    "import os\n",
    "for dirname, _, filenames in os.walk('/kaggle/input'):\n",
    "    for filename in filenames:\n",
    "        print(os.path.join(dirname, filename))\n",
    "\n",
    "# You can write up to 20GB to the current directory (/kaggle/working/) that gets preserved as output when you create a version using \"Save & Run All\" \n",
    "# You can also write temporary files to /kaggle/temp/, but they won't be saved outside of the current session"
   ]
  },
  {
   "cell_type": "code",
   "execution_count": null,
   "metadata": {
    "editable": false
   },
   "outputs": [],
   "source": [
    "dset = pd.read_csv('../input/us-international-air-traffic-data/International_Report_Departures.csv')"
   ]
  },
  {
   "cell_type": "code",
   "execution_count": null,
   "metadata": {
    "editable": false
   },
   "outputs": [],
   "source": [
    "dset"
   ]
  },
  {
   "cell_type": "code",
   "execution_count": null,
   "metadata": {
    "editable": false
   },
   "outputs": [],
   "source": [
    "import pandas as pd\n",
    "import matplotlib.pyplot as plt\n",
    "import seaborn as sns\n",
    "import numpy as np"
   ]
  },
  {
   "cell_type": "code",
   "execution_count": null,
   "metadata": {
    "editable": false
   },
   "outputs": [],
   "source": [
    "def read_dataset(file_path, file_type):\n",
    "    if file_type == \"csv\":\n",
    "        data = pd.read_csv(file_path)\n",
    "    elif file_type == \"excel\":\n",
    "        data = pd.read_excel(file_path)\n",
    "    elif file_type == \"sql\":\n",
    "        # اكتب هنا الكود الخاص بقراءة من قاعدة بيانات SQL\n",
    "        pass\n",
    "    else:\n",
    "        raise ValueError(\"نوع الملف غير معترف به\")\n",
    "\n",
    "    return data"
   ]
  },
  {
   "cell_type": "code",
   "execution_count": null,
   "metadata": {
    "editable": false
   },
   "outputs": [],
   "source": [
    "def infer_column_types(dataset):\n",
    "    column_types = dataset.dtypes\n",
    "    return column_types"
   ]
  },
  {
   "cell_type": "code",
   "execution_count": null,
   "metadata": {
    "editable": false
   },
   "outputs": [],
   "source": [
    "def handle_missing_values(dataset):\n",
    "    for column in dataset.columns:\n",
    "        if dataset[column].dtype == 'float64':\n",
    "            # قم بتعبئة القيم المفقودة في البيانات المستمرة بالوسط الحسابي\n",
    "            dataset[column].fillna(dataset[column].mean(), inplace=True)\n",
    "        elif dataset[column].dtype == 'int64':\n",
    "            # قم بتعبئة القيم المفقودة في البيانات المنفصلة بالمنوال\n",
    "            dataset[column].fillna(dataset[column].mode()[0], inplace=True)"
   ]
  },
  {
   "cell_type": "code",
   "execution_count": null,
   "metadata": {
    "editable": false
   },
   "outputs": [],
   "source": [
    "def visualize_data(data, column_name, plot_type):\n",
    "    plt.figure(figsize=(10, 6))  # تحديد حجم الشكل\n",
    "    \n",
    "    if plot_type == 'histogram':\n",
    "        # عمل هستوغرام للبيانات\n",
    "        sns.histplot(data[column_name], kde=True)\n",
    "        plt.title(f'هستوغرام لعمود {column_name}')\n",
    "        plt.xlabel(column_name)\n",
    "        plt.ylabel('التكرارات')\n",
    "    elif plot_type == 'boxplot':\n",
    "        # عمل بوكس بلوت للبيانات\n",
    "        sns.boxplot(x=data[column_name])\n",
    "        plt.title(f'بوكس بلوت لعمود {column_name}')\n",
    "        plt.xlabel(column_name)\n",
    "    elif plot_type == 'scatterplot':\n",
    "        # عمل سكاتر بلوت لبيانات اثنين من الأعمدة\n",
    "        # يجب توفير اسمي العمودين كمدخلات إضافية\n",
    "        x_column, y_column = column_name.split(',')\n",
    "        sns.scatterplot(data=data, x=x_column, y=y_column)\n",
    "        plt.title(f'سكاتر بلوت لأعمدة {x_column} و{y_column}')\n",
    "        plt.xlabel(x_column)\n",
    "        plt.ylabel(y_column)\n",
    "    elif plot_type == 'barplot':\n",
    "        # عمل بار شارت للبيانات\n",
    "        sns.countplot(data=data, x=column_name)\n",
    "        plt.title(f'بار شارت لعمود {column_name}')\n",
    "        plt.xlabel(column_name)\n",
    "        plt.ylabel('التكرارات')\n",
    "\n",
    "    plt.show()\n"
   ]
  },
  {
   "cell_type": "code",
   "execution_count": null,
   "metadata": {
    "editable": false
   },
   "outputs": [],
   "source": [
    "def visualize_all_features(data,plot_kind):\n",
    "    for feature in data.columns:\n",
    "        visualize_data(data, feature,plot_kind) "
   ]
  },
  {
   "cell_type": "code",
   "execution_count": null,
   "metadata": {
    "editable": false
   },
   "outputs": [],
   "source": [
    "def main():\n",
    "        dataset_url = '../input/us-international-air-traffic-data/International_Report_Departures.csv'  # ضع هنا رابط مجموعة البيانات\n",
    "        file_type = 'csv'  # قم بتحديد نوع الملف هنا (csv, excel, sql)\n",
    "\n",
    "        dataset = read_dataset(dataset_url, file_type)\n",
    "        print(\"مجموعة البيانات:\")\n",
    "        print(dataset)\n",
    "        \n",
    "        print(\"التعرف علي نوع الاعمدة\",\"\\n\")\n",
    "\n",
    "        column_types = infer_column_types(dataset)\n",
    "        print(\"أنواع الأعمدة:\")\n",
    "        print(column_types)\n",
    "        \n",
    "        print(\"فحص القيم المفقودة ومعالجتها\",\"\\n\")\n",
    "        handle_missing_values(dataset)  # فحص ومعالجة القيم المفقودة\n",
    "        print(\"مجموعة البيانات بعد معالجة القيم المفقودة:\")\n",
    "        print(dataset)\n",
    "        \n",
    "        \n",
    "        print(\"عرض التصورات البيانية لجميع السمات\",\"\\n\")\n",
    "        \n",
    "        # قم بعرض التصورات البيانية لجميع السمات\n",
    "       \n",
    "    \n",
    "        valid_inputs = ['histogram', 'boxplot', 'barplot', 'scatterplot']\n",
    "        max_attempts = 3  # عدد المحاولات المسموح بها\n",
    "\n",
    "        for attempt in range(max_attempts):\n",
    "            user_input = input(\"الرجاء إدخال نوع البلوت (histogram, boxplot, barplot, scatterplot): \")\n",
    "            # تحقق من أن القيمة المدخلة موجودة في القائمة\n",
    "            if user_input in valid_inputs:\n",
    "                print(f\"شكرًا لك! لقد أدخلت '{user_input}' بنجاح.\")\n",
    "                visualize_all_features(dataset,user_input)\n",
    "                break  # انقضاء الحلقة إذا تم إدخال قيمة صحيحة\n",
    "            else:\n",
    "                print(\"القيمة التي أدخلتها غير صحيحة. الرجاء المحاولة مرة أخرى.\")\n",
    "\n",
    "            if user_input not in valid_inputs:\n",
    "                print(\"لقد قمت بتجاوز عدد المحاولات المسموح بها.\")\n",
    "\n",
    "if __name__ == \"__main__\":\n",
    "    main()\n"
   ]
  },
  {
   "cell_type": "code",
   "execution_count": null,
   "metadata": {
    "editable": false
   },
   "outputs": [],
   "source": []
  },
  {
   "cell_type": "code",
   "execution_count": null,
   "metadata": {
    "editable": false
   },
   "outputs": [],
   "source": []
  }
 ],
 "metadata": {
  "kernelspec": {
   "display_name": "Python 3 (ipykernel)",
   "language": "python",
   "name": "python3"
  },
  "language_info": {
   "codemirror_mode": {
    "name": "ipython",
    "version": 3
   },
   "file_extension": ".py",
   "mimetype": "text/x-python",
   "name": "python",
   "nbconvert_exporter": "python",
   "pygments_lexer": "ipython3",
   "version": "3.9.13"
  }
 },
 "nbformat": 4,
 "nbformat_minor": 4
}
